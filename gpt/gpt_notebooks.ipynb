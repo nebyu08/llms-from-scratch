{
 "cells": [
  {
   "cell_type": "code",
   "execution_count": 9,
   "metadata": {},
   "outputs": [],
   "source": [
    "import torch\n",
    "import tiktoken\n",
    "import torch.nn as nn"
   ]
  },
  {
   "cell_type": "markdown",
   "metadata": {},
   "source": [
    "# GPT dummy model"
   ]
  },
  {
   "cell_type": "code",
   "execution_count": 79,
   "metadata": {},
   "outputs": [],
   "source": [
    "class DummyTransformerBlock(nn.Module):\n",
    "    def __init__(self,cfg) -> None:\n",
    "        super().__init__()\n",
    "\n",
    "    def forward(self,x):\n",
    "        return x\n",
    "\n",
    "class DummyLayerNorm(nn.Module):\n",
    "\n",
    "    def __init__(self,normalized_shape ) -> None:\n",
    "        super().__init__()\n",
    "\n",
    "    def forward(self,x):\n",
    "        return x\n",
    "    \n",
    "\n",
    "class DummyGPTModel(nn.Module):\n",
    "    def __init__(self,cfg) -> None:\n",
    "        super().__init__()\n",
    "        #toke pos #transformer #layer norm\n",
    "        \n",
    "        self.toke_emb=nn.Embedding(cfg['vocab_size'],cfg['emb_dim'])\n",
    "        self.pos_emb=nn.Embedding(cfg['context_length'],cfg['emb_dim'])\n",
    "        \n",
    "        self.btrf=nn.Sequential(*[DummyTransformerBlock(cfg) for _ in range(cfg['n_layers'])])\n",
    "        self.drop=nn.Dropout(cfg['drop_rate'])\n",
    "\n",
    "        self.final=DummyLayerNorm(cfg['emb_dim'])\n",
    "        self.out_head=nn.Linear(cfg['emb_dim'],cfg['vocab_size'],bias=False)\n",
    "\n",
    "    def forward(self,in_idx):\n",
    "        batch_size,seq_length=in_idx.shape\n",
    "        token_embd=self.toke_emb(in_idx)\n",
    "        pos_embd=self.pos_emb(torch.arange(seq_length))\n",
    "        \n",
    "        input_embd=token_embd+pos_embd\n",
    "\n",
    "        input_embd=self.drop(input_embd)\n",
    "        input_embd=self.btrf(input_embd)\n",
    "        input_embd=self.final(input_embd)\n",
    "\n",
    "        logits=self.out_head(input_embd)\n",
    "        return logits"
   ]
  },
  {
   "cell_type": "code",
   "execution_count": 80,
   "metadata": {},
   "outputs": [],
   "source": [
    "tokenizer=tiktoken.get_encoding('gpt2')"
   ]
  },
  {
   "cell_type": "code",
   "execution_count": 81,
   "metadata": {},
   "outputs": [],
   "source": [
    "batch=[]\n",
    "txt='hello there i am'\n",
    "txt2=\"this is not what\"\n",
    "\n",
    "batch.append(torch.tensor(tokenizer.encode(txt)))\n",
    "batch.append(torch.tensor(tokenizer.encode(txt2)))\n",
    "\n",
    "batch=torch.stack(batch,dim=0)"
   ]
  },
  {
   "cell_type": "code",
   "execution_count": 82,
   "metadata": {},
   "outputs": [
    {
     "data": {
      "text/plain": [
       "tensor([[31373,   612,  1312,   716],\n",
       "        [ 5661,   318,   407,   644]])"
      ]
     },
     "execution_count": 82,
     "metadata": {},
     "output_type": "execute_result"
    }
   ],
   "source": [
    "batch"
   ]
  },
  {
   "cell_type": "code",
   "execution_count": 83,
   "metadata": {},
   "outputs": [],
   "source": [
    "GPT_CONFIG_124M = {\n",
    "    \"vocab_size\": 50257,    # Vocabulary size\n",
    "    \"context_length\": 1024, # Context length\n",
    "    \"emb_dim\": 768,         # Embedding dimension\n",
    "    \"n_heads\": 12,          # Number of attention heads\n",
    "    \"n_layers\": 12,         # Number of layers\n",
    "    \"drop_rate\": 0.1,       # Dropout rate\n",
    "    \"qkv_bias\": False       # Query-Key-Value bias\n",
    "}"
   ]
  },
  {
   "cell_type": "code",
   "execution_count": 84,
   "metadata": {},
   "outputs": [],
   "source": [
    "model=DummyGPTModel(GPT_CONFIG_124M)\n",
    "logits=model(batch)"
   ]
  },
  {
   "cell_type": "code",
   "execution_count": 88,
   "metadata": {},
   "outputs": [
    {
     "data": {
      "text/plain": [
       "torch.Size([2, 4, 50257])"
      ]
     },
     "execution_count": 88,
     "metadata": {},
     "output_type": "execute_result"
    }
   ],
   "source": [
    "logits.shape"
   ]
  },
  {
   "cell_type": "code",
   "execution_count": 89,
   "metadata": {},
   "outputs": [
    {
     "data": {
      "text/plain": [
       "torch.Size([2, 4])"
      ]
     },
     "execution_count": 89,
     "metadata": {},
     "output_type": "execute_result"
    }
   ],
   "source": [
    "batch.shape"
   ]
  },
  {
   "cell_type": "markdown",
   "metadata": {},
   "source": [
    "# normalizing layes"
   ]
  },
  {
   "cell_type": "code",
   "execution_count": 92,
   "metadata": {},
   "outputs": [
    {
     "name": "stdout",
     "output_type": "stream",
     "text": [
      "input:tensor([[31373,   612,  1312,   716],\n",
      "        [ 5661,   318,   407,   644]])\n",
      "\n",
      "tensor([[0.4198, 0.0000, 0.0000, 0.0000, 0.0353, 0.0000],\n",
      "        [0.3917, 0.4054, 0.7159, 0.0000, 0.0000, 0.3878]],\n",
      "       grad_fn=<ReluBackward0>)\n"
     ]
    }
   ],
   "source": [
    "batch_example=torch.randn(2,5)\n",
    "layer=nn.Sequential(nn.Linear(5,6),nn.ReLU())\n",
    "out=layer(batch_example)\n",
    "print(f\"input:{batch}\\n\")\n",
    "print(out)"
   ]
  },
  {
   "cell_type": "code",
   "execution_count": 93,
   "metadata": {},
   "outputs": [],
   "source": [
    "#lets check the mean and variance\n",
    "mean=out.mean(dim=-1,keepdim=True)\n",
    "variance=out.var(dim=-1,keepdim=True)"
   ]
  },
  {
   "cell_type": "code",
   "execution_count": 97,
   "metadata": {},
   "outputs": [
    {
     "name": "stdout",
     "output_type": "stream",
     "text": [
      "mean is: tensor([[0.0759],\n",
      "        [0.3168]], grad_fn=<MeanBackward1>)\n",
      "\n",
      "variance is:tensor([[0.0286],\n",
      "        [0.0757]], grad_fn=<VarBackward0>)\n"
     ]
    }
   ],
   "source": [
    "print(f\"mean is: {mean}\\n\")\n",
    "print(f\"variance is:{variance}\")"
   ]
  },
  {
   "cell_type": "code",
   "execution_count": 100,
   "metadata": {},
   "outputs": [
    {
     "name": "stdout",
     "output_type": "stream",
     "text": [
      "the output:tensor([[ 2.0341, -0.4486, -0.4486, -0.4486, -0.2396, -0.4486],\n",
      "        [ 0.2722,  0.3220,  1.4505, -1.1514, -1.1514,  0.2581]],\n",
      "       grad_fn=<DivBackward0>)\n",
      "the mean of the value is:tensor([[    0.0000],\n",
      "        [    0.0000]], grad_fn=<MeanBackward1>)\n",
      "the varaince is:tensor([[1.0000],\n",
      "        [1.0000]], grad_fn=<VarBackward0>)\n"
     ]
    }
   ],
   "source": [
    "torch.set_printoptions(sci_mode=False)\n",
    "\n",
    "#lets noramlize the output\n",
    "out_norm=(out-mean)/torch.sqrt(variance)\n",
    "print(f\"the output:{out_norm}\")\n",
    "print(f\"the mean of the value is:{out_norm.mean(dim=-1,keepdim=True)}\")\n",
    "print(f\"the varaince is:{out_norm.var(dim=-1,keepdim=True)}\")"
   ]
  },
  {
   "cell_type": "markdown",
   "metadata": {},
   "source": [
    "# lets make normalizing layer"
   ]
  },
  {
   "cell_type": "code",
   "execution_count": 114,
   "metadata": {},
   "outputs": [],
   "source": [
    "class LayerNorm(nn.Module):\n",
    "    def __init__(self,emb_dim) -> None:\n",
    "        super().__init__()\n",
    "        self.eps=1e-5\n",
    "        self.scale=nn.Parameter(torch.ones(emb_dim))\n",
    "        self.shift=nn.Parameter(torch.zeros(emb_dim))\n",
    "    def forward(self,x):\n",
    "        mean=x.mean(keepdim=True,dim=-1)\n",
    "        var=x.var(keepdim=True,dim=-1,unbiased=False)\n",
    "        norm_value=(x-mean)/torch.sqrt(self.eps+var)  \n",
    "        return self.scale*norm_value+self.shift"
   ]
  },
  {
   "cell_type": "code",
   "execution_count": 115,
   "metadata": {},
   "outputs": [
    {
     "name": "stdout",
     "output_type": "stream",
     "text": [
      "mean is tensor([[     0.0000],\n",
      "        [    -0.0000]], grad_fn=<MeanBackward1>)\n",
      "variance is tensor([[1.2499],\n",
      "        [1.2500]], grad_fn=<VarBackward0>)\n"
     ]
    }
   ],
   "source": [
    "ln=LayerNorm(emb_dim=5)\n",
    "out_ln=ln(batch_example)\n",
    "\n",
    "mean=out_ln.mean(dim=-1,keepdim=True)\n",
    "var=out_ln.var(dim=-1,keepdim=True)\n",
    "\n",
    "print(f\"mean is {mean}\")\n",
    "print(f\"variance is {var}\")"
   ]
  },
  {
   "cell_type": "code",
   "execution_count": 116,
   "metadata": {},
   "outputs": [
    {
     "data": {
      "text/plain": [
       "tensor([[ 0.2014,  0.3362, -0.4535,  0.0056,  0.6441],\n",
       "        [ 1.1242,  0.2663,  0.2266,  2.2313,  0.5974]])"
      ]
     },
     "execution_count": 116,
     "metadata": {},
     "output_type": "execute_result"
    }
   ],
   "source": [
    "batch_example"
   ]
  },
  {
   "cell_type": "code",
   "execution_count": null,
   "metadata": {},
   "outputs": [],
   "source": []
  },
  {
   "cell_type": "code",
   "execution_count": null,
   "metadata": {},
   "outputs": [],
   "source": []
  },
  {
   "cell_type": "code",
   "execution_count": null,
   "metadata": {},
   "outputs": [],
   "source": []
  }
 ],
 "metadata": {
  "kernelspec": {
   "display_name": "snakey",
   "language": "python",
   "name": "python3"
  },
  "language_info": {
   "codemirror_mode": {
    "name": "ipython",
    "version": 3
   },
   "file_extension": ".py",
   "mimetype": "text/x-python",
   "name": "python",
   "nbconvert_exporter": "python",
   "pygments_lexer": "ipython3",
   "version": "3.8.19"
  }
 },
 "nbformat": 4,
 "nbformat_minor": 2
}
