{
 "cells": [
  {
   "cell_type": "code",
   "execution_count": 90,
   "metadata": {},
   "outputs": [],
   "source": [
    "import re\n",
    "from typing import List"
   ]
  },
  {
   "cell_type": "code",
   "execution_count": 3,
   "metadata": {},
   "outputs": [],
   "source": [
    "with open('verdict.txt',\"r\",encoding=\"utf-8\") as f:\n",
    "    txt=f.read()"
   ]
  },
  {
   "cell_type": "code",
   "execution_count": 4,
   "metadata": {},
   "outputs": [
    {
     "name": "stdout",
     "output_type": "stream",
     "text": [
      "4649\n"
     ]
    }
   ],
   "source": [
    "#lets tokenize \n",
    "tokenized=re.split(r'([,.?_!\"()\\']|--|\\s)',txt)\n",
    "\n",
    "# print(len(tokenized))\n",
    "tokenized=[item for item in tokenized if item.split()]\n",
    "print(len(tokenized))\n"
   ]
  },
  {
   "cell_type": "markdown",
   "metadata": {},
   "source": [
    "# lets make vocublary"
   ]
  },
  {
   "cell_type": "code",
   "execution_count": 5,
   "metadata": {},
   "outputs": [],
   "source": [
    "clean_token=sorted(list(set(tokenized)))"
   ]
  },
  {
   "cell_type": "code",
   "execution_count": 6,
   "metadata": {},
   "outputs": [
    {
     "name": "stdout",
     "output_type": "stream",
     "text": [
      "1159\n"
     ]
    }
   ],
   "source": [
    "print(len(clean_token))"
   ]
  },
  {
   "cell_type": "code",
   "execution_count": 7,
   "metadata": {},
   "outputs": [],
   "source": [
    "#lets make the vocab\n",
    "text_index={text:index for index,text in enumerate(clean_token)}\n",
    "index_text={index:text for index,text in enumerate(clean_token)}"
   ]
  },
  {
   "cell_type": "code",
   "execution_count": 8,
   "metadata": {},
   "outputs": [
    {
     "name": "stdout",
     "output_type": "stream",
     "text": [
      "1012\n"
     ]
    }
   ],
   "source": [
    "print(text_index['that'])"
   ]
  },
  {
   "cell_type": "code",
   "execution_count": 9,
   "metadata": {},
   "outputs": [],
   "source": [
    "#this is the encoder\n",
    "def encoder(text):\n",
    "    #lets tokenize it\n",
    "    tokenizer=re.split(r'([,.?_!\"()\\']|--|\\s)',text)  \n",
    "    tokenizer=[item for item in tokenizer if item.strip()]\n",
    "    \n",
    "    #lets make token id\n",
    "    token_id=[]\n",
    "    for i in tokenizer:\n",
    "        token_id.append(text_index[i])\n",
    "    return token_id\n",
    "\n",
    "#this is the decoder\n",
    "def decoder(encoded):\n",
    "    decoded_id=[]\n",
    "    for i in encoded:\n",
    "        decoded_id.append(index_text[i])\n",
    "    return decoded_id"
   ]
  },
  {
   "cell_type": "code",
   "execution_count": 10,
   "metadata": {},
   "outputs": [
    {
     "name": "stdout",
     "output_type": "stream",
     "text": [
      "[1024, 595, 727, 508]\n",
      "['this', 'is', 'not', 'good']\n"
     ]
    }
   ],
   "source": [
    "print(encoder('this is not good'))\n",
    "print(decoder([1024, 595, 727, 508]))"
   ]
  },
  {
   "cell_type": "markdown",
   "metadata": {},
   "source": [
    "# lets make ita a  class"
   ]
  },
  {
   "cell_type": "code",
   "execution_count": 11,
   "metadata": {},
   "outputs": [],
   "source": [
    "class TokenizerVersion1():\n",
    "    def __init__(self,vocab) -> None:\n",
    "        self.vocab=vocab\n",
    "    \n",
    "    def encoder(self,text):\n",
    "        #lets tokenize it\n",
    "        tokenizer=re.split(r'([,.?_!\"()\\']|--|\\s)',text)  \n",
    "        tokenizer=[item for item in tokenizer if item.strip()]\n",
    "        \n",
    "        #lets make token id\n",
    "        token_id=[]\n",
    "        for i in tokenizer:\n",
    "            token_id.append(self.vocab[i])\n",
    "        return token_id\n",
    "    \n",
    "    def decoder(self,encoded):\n",
    "         self.decoded_id=[]\n",
    "         for i in encoded:\n",
    "            self.decoded_id.append(index_text[i])\n",
    "        \n",
    "         text=\" \".join(i for i in self.decoded_id)\n",
    "         text= re.sub(r'\\s+([,.?_!\"()\\'\"])', r'\\1', text)\n",
    "         return text"
   ]
  },
  {
   "cell_type": "code",
   "execution_count": 12,
   "metadata": {},
   "outputs": [
    {
     "name": "stdout",
     "output_type": "stream",
     "text": [
      "[1024, 595, 1013, 1125, 1145, 738, 1012, 1140, 873, 1, 547, 671, 10, 1]\n",
      "this is the whole word of that women said\" her man?\"\n"
     ]
    }
   ],
   "source": [
    "#lets check out the class\n",
    "text=\"\"\"\n",
    "    this is the whole word of that women said \"her man?\"\n",
    "\"\"\"\n",
    "toknizer=TokenizerVersion1(vocab=text_index)\n",
    "\n",
    "encode=toknizer.encoder(text=text)\n",
    "print(encode)\n",
    "\n",
    "decoder=toknizer.decoder(encoded=encode)\n",
    "print(decoder)"
   ]
  },
  {
   "cell_type": "markdown",
   "metadata": {},
   "source": [
    "# handle unknown tokens"
   ]
  },
  {
   "cell_type": "code",
   "execution_count": 21,
   "metadata": {},
   "outputs": [],
   "source": [
    "#add new token into old\n",
    "all_tokens=clean_token\n",
    "#appending\n",
    "all_tokens.extend(['<|endoftext|>',\"<|unk|>\"])\n",
    "#make the vocab \n",
    "vocab={token:index for index,token in enumerate(all_tokens)}"
   ]
  },
  {
   "cell_type": "code",
   "execution_count": 67,
   "metadata": {},
   "outputs": [
    {
     "name": "stdout",
     "output_type": "stream",
     "text": [
      "present\n"
     ]
    }
   ],
   "source": [
    "if 'the' in vocab:\n",
    "    print(\"present\")\n",
    "else:\n",
    "    print('not present')"
   ]
  },
  {
   "cell_type": "code",
   "execution_count": 68,
   "metadata": {},
   "outputs": [
    {
     "data": {
      "text/plain": [
       "1013"
      ]
     },
     "execution_count": 68,
     "metadata": {},
     "output_type": "execute_result"
    }
   ],
   "source": [
    "vocab['the']"
   ]
  },
  {
   "cell_type": "code",
   "execution_count": 22,
   "metadata": {},
   "outputs": [
    {
     "data": {
      "text/plain": [
       "(1163, 1161)"
      ]
     },
     "execution_count": 22,
     "metadata": {},
     "output_type": "execute_result"
    }
   ],
   "source": [
    "len(all_tokens),len(vocab)"
   ]
  },
  {
   "cell_type": "markdown",
   "metadata": {},
   "source": [
    "# include the 2 new tokens into the tokenizer"
   ]
  },
  {
   "cell_type": "code",
   "execution_count": 122,
   "metadata": {},
   "outputs": [],
   "source": [
    "class TokenizerVersion2():\n",
    "    def __init__(self,vocab) -> None:\n",
    "        self.vocab=vocab  #text to num\n",
    "        self.index_text={index:text for text,index in self.vocab.items()}  #num to text\n",
    "    \n",
    "    def encoder(self,text)->List:\n",
    "        #lets tokenize it\n",
    "        tokenized=re.split(r'([,.?_!\"()\\']|--|\\s)',text)  \n",
    "        tokenized=[item for item in tokenized if item.strip()]\n",
    "        \n",
    "        #lets make token id\n",
    "        token_id=[item if item in self.vocab else \"<|UNK|>\" for item in tokenized]\n",
    "        ids=[self.vocab[item] for item in token_id]\n",
    "       \n",
    "        return ids\n",
    "    \n",
    "    def decoder(self,encoded):\n",
    "         print(encode)\n",
    "         text = \" \".join([self.index_text[i] for i in encoded])\n",
    "         \n",
    "         text= re.sub(r'\\s+([,.?_!\"()\\'\"])', r'\\1', text)\n",
    "         return text"
   ]
  },
  {
   "cell_type": "code",
   "execution_count": 123,
   "metadata": {},
   "outputs": [
    {
     "name": "stdout",
     "output_type": "stream",
     "text": [
      "this is encoder\n",
      "[1013, 595, 1013, 1125, 1145, 738, 1012, 1140, 873, 1, 547, 671, 10, 1]\n",
      "[1013, 595, 1013, 1125, 1145, 738, 1012, 1140, 873, 1, 547, 671, 10, 1]\n",
      "this is the decoder\n",
      "the is the whole word of that women said\" her man?\"\n"
     ]
    }
   ],
   "source": [
    "#lets check out the class\n",
    "text=\"\"\"\n",
    "    the is the whole word of that women said \"her man?\"\n",
    "\"\"\"\n",
    "toknizer=TokenizerVersion2(vocab)\n",
    "\n",
    "encode=toknizer.encoder(text=text)\n",
    "print(\"this is encoder\")\n",
    "print(encode)\n",
    "\n",
    "decoder=toknizer.decoder(encode)\n",
    "print(\"this is the decoder\")\n",
    "print(decoder)"
   ]
  },
  {
   "cell_type": "code",
   "execution_count": 124,
   "metadata": {},
   "outputs": [
    {
     "name": "stdout",
     "output_type": "stream",
     "text": [
      "! 0\n",
      "\" 1\n",
      "' 2\n",
      "( 3\n",
      ") 4\n",
      ", 5\n",
      "-- 6\n",
      ". 7\n",
      ": 8\n",
      "; 9\n",
      "? 10\n",
      "A 11\n"
     ]
    }
   ],
   "source": [
    "for i,(k,v) in enumerate(vocab.items()):\n",
    "    print(k,v)\n",
    "    if(i>10):\n",
    "        break"
   ]
  },
  {
   "cell_type": "code",
   "execution_count": null,
   "metadata": {},
   "outputs": [],
   "source": []
  },
  {
   "cell_type": "code",
   "execution_count": null,
   "metadata": {},
   "outputs": [],
   "source": []
  }
 ],
 "metadata": {
  "kernelspec": {
   "display_name": "snakey",
   "language": "python",
   "name": "python3"
  },
  "language_info": {
   "codemirror_mode": {
    "name": "ipython",
    "version": 3
   },
   "file_extension": ".py",
   "mimetype": "text/x-python",
   "name": "python",
   "nbconvert_exporter": "python",
   "pygments_lexer": "ipython3",
   "version": "3.8.19"
  }
 },
 "nbformat": 4,
 "nbformat_minor": 2
}
