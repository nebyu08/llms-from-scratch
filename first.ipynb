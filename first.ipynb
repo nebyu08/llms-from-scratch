{
 "cells": [
  {
   "cell_type": "code",
   "execution_count": 22,
   "metadata": {},
   "outputs": [],
   "source": [
    "import re"
   ]
  },
  {
   "cell_type": "code",
   "execution_count": 37,
   "metadata": {},
   "outputs": [],
   "source": [
    "with open('verdict.txt',\"r\",encoding=\"utf-8\") as f:\n",
    "    txt=f.read()"
   ]
  },
  {
   "cell_type": "code",
   "execution_count": 38,
   "metadata": {},
   "outputs": [
    {
     "name": "stdout",
     "output_type": "stream",
     "text": [
      "4649\n"
     ]
    }
   ],
   "source": [
    "#lets tokenize \n",
    "tokenized=re.split(r'([,.?_!\"()\\']|--|\\s)',txt)\n",
    "\n",
    "# print(len(tokenized))\n",
    "tokenized=[item for item in tokenized if item.split()]\n",
    "print(len(tokenized))\n"
   ]
  },
  {
   "cell_type": "markdown",
   "metadata": {},
   "source": [
    "# lets make vocublary"
   ]
  },
  {
   "cell_type": "code",
   "execution_count": 41,
   "metadata": {},
   "outputs": [],
   "source": [
    "clean_token=sorted(list(set(tokenized)))"
   ]
  },
  {
   "cell_type": "code",
   "execution_count": 46,
   "metadata": {},
   "outputs": [
    {
     "name": "stdout",
     "output_type": "stream",
     "text": [
      "1159\n"
     ]
    }
   ],
   "source": [
    "print(len(clean_token))"
   ]
  },
  {
   "cell_type": "code",
   "execution_count": 53,
   "metadata": {},
   "outputs": [],
   "source": [
    "#lets make the vocab\n",
    "text_index={text:index for index,text in enumerate(clean_token)}\n",
    "index_text={index:text for index,text in enumerate(clean_token)}"
   ]
  },
  {
   "cell_type": "code",
   "execution_count": 52,
   "metadata": {},
   "outputs": [
    {
     "name": "stdout",
     "output_type": "stream",
     "text": [
      "1012\n"
     ]
    }
   ],
   "source": [
    "print(text_index['that'])"
   ]
  },
  {
   "cell_type": "code",
   "execution_count": 58,
   "metadata": {},
   "outputs": [],
   "source": [
    "#this is the encoder\n",
    "def encoder(text):\n",
    "    #lets tokenize it\n",
    "    tokenizer=re.split(r'([,.?_!\"()\\']|--|\\s)',text)  \n",
    "    tokenizer=[item for item in tokenizer if item.strip()]\n",
    "    \n",
    "    #lets make token id\n",
    "    token_id=[]\n",
    "    for i in tokenizer:\n",
    "        token_id.append(text_index[i])\n",
    "    return token_id\n",
    "\n",
    "#this is the decoder\n",
    "def decoder(encoded):\n",
    "    decoded_id=[]\n",
    "    for i in encoded:\n",
    "        decoded_id.append(index_text[i])\n",
    "    return decoded_id"
   ]
  },
  {
   "cell_type": "code",
   "execution_count": 60,
   "metadata": {},
   "outputs": [
    {
     "name": "stdout",
     "output_type": "stream",
     "text": [
      "[1024, 595, 727, 508]\n",
      "['this', 'is', 'not', 'good']\n"
     ]
    }
   ],
   "source": [
    "print(encoder('this is not good'))\n",
    "print(decoder([1024, 595, 727, 508]))"
   ]
  },
  {
   "cell_type": "markdown",
   "metadata": {},
   "source": [
    "# lets make ita a  class"
   ]
  },
  {
   "cell_type": "code",
   "execution_count": 90,
   "metadata": {},
   "outputs": [],
   "source": [
    "class TokenizerVersion1():\n",
    "    def __init__(self,vocab) -> None:\n",
    "        self.vocab=vocab\n",
    "    \n",
    "    def encoder(self,text):\n",
    "        #lets tokenize it\n",
    "        tokenizer=re.split(r'([,.?_!\"()\\']|--|\\s)',text)  \n",
    "        tokenizer=[item for item in tokenizer if item.strip()]\n",
    "        \n",
    "        #lets make token id\n",
    "        token_id=[]\n",
    "        for i in tokenizer:\n",
    "            token_id.append(self.vocab[i])\n",
    "        return token_id\n",
    "    \n",
    "    def decoder(self,encoded):\n",
    "         self.decoded_id=[]\n",
    "         for i in encoded:\n",
    "            self.decoded_id.append(index_text[i])\n",
    "        \n",
    "         text=\" \".join(i for i in self.decoded_id)\n",
    "         text= re.sub(r'\\s+([,.?_!\"()\\'\"])', r'\\1', text)\n",
    "         return text"
   ]
  },
  {
   "cell_type": "code",
   "execution_count": 91,
   "metadata": {},
   "outputs": [
    {
     "name": "stdout",
     "output_type": "stream",
     "text": [
      "[657, 1119, 174, 1019, 162, 10]\n",
      "look where are they and?\n"
     ]
    }
   ],
   "source": [
    "#lets check out the class\n",
    "text=\"look where are they and ?\"\n",
    "toknizer=TokenizerVersion1(vocab=text_index)\n",
    "\n",
    "encode=toknizer.encoder(text=text)\n",
    "print(encode)\n",
    "\n",
    "decoder=toknizer.decoder(encoded=encode)\n",
    "print(decoder)"
   ]
  },
  {
   "cell_type": "code",
   "execution_count": null,
   "metadata": {},
   "outputs": [],
   "source": []
  },
  {
   "cell_type": "code",
   "execution_count": null,
   "metadata": {},
   "outputs": [],
   "source": []
  }
 ],
 "metadata": {
  "kernelspec": {
   "display_name": "snakey",
   "language": "python",
   "name": "python3"
  },
  "language_info": {
   "codemirror_mode": {
    "name": "ipython",
    "version": 3
   },
   "file_extension": ".py",
   "mimetype": "text/x-python",
   "name": "python",
   "nbconvert_exporter": "python",
   "pygments_lexer": "ipython3",
   "version": "3.8.19"
  }
 },
 "nbformat": 4,
 "nbformat_minor": 2
}
