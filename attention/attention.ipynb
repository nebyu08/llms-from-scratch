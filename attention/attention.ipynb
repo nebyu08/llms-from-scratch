{
 "cells": [
  {
   "cell_type": "markdown",
   "metadata": {},
   "source": [
    "# self attention with out weights"
   ]
  },
  {
   "cell_type": "code",
   "execution_count": 1,
   "metadata": {},
   "outputs": [],
   "source": [
    "import torch \n",
    "import torch.nn as nn"
   ]
  },
  {
   "cell_type": "code",
   "execution_count": 2,
   "metadata": {},
   "outputs": [],
   "source": [
    "inputs=torch.randn(5,3)"
   ]
  },
  {
   "cell_type": "code",
   "execution_count": 3,
   "metadata": {},
   "outputs": [
    {
     "name": "stdout",
     "output_type": "stream",
     "text": [
      "the input:tensor([-0.9503, -0.2291, -0.0102])\n",
      "the attention score:tensor([-0.1662,  2.4919,  0.9556,  0.7978, -0.0709])\n"
     ]
    }
   ],
   "source": [
    "query=inputs[2]\n",
    "\n",
    "attn_score=torch.empty(inputs.shape[0])\n",
    "\n",
    "for i,val in enumerate(inputs):\n",
    "    attn_score[i]=torch.dot(val,query)\n",
    "\n",
    "\n",
    "print(f\"the input:{query}\")\n",
    "print(f\"the attention score:{attn_score}\")\n"
   ]
  },
  {
   "cell_type": "markdown",
   "metadata": {},
   "source": [
    "# we know make the attention weight by normalizing the attention score"
   ]
  },
  {
   "cell_type": "code",
   "execution_count": 4,
   "metadata": {},
   "outputs": [
    {
     "name": "stdout",
     "output_type": "stream",
     "text": [
      "the attention score is: tensor([-0.1662,  2.4919,  0.9556,  0.7978, -0.0709])\n",
      "the attention weight is:tensor([-0.0415,  0.6217,  0.2384,  0.1990, -0.0177])\n"
     ]
    }
   ],
   "source": [
    "attn_weight=attn_score/attn_score.sum()\n",
    "print(f\"the attention score is: {attn_score}\")\n",
    "print(f\"the attention weight is:{attn_weight}\")"
   ]
  },
  {
   "cell_type": "code",
   "execution_count": 5,
   "metadata": {},
   "outputs": [],
   "source": [
    "def local_softmax(x):\n",
    "    return torch.exp(x)/torch.exp(x).sum(dim=0)"
   ]
  },
  {
   "cell_type": "code",
   "execution_count": 6,
   "metadata": {},
   "outputs": [
    {
     "data": {
      "text/plain": [
       "tensor([0.0453, 0.6468, 0.1392, 0.1189, 0.0499])"
      ]
     },
     "execution_count": 6,
     "metadata": {},
     "output_type": "execute_result"
    }
   ],
   "source": [
    "local_softmax(attn_score)"
   ]
  },
  {
   "cell_type": "code",
   "execution_count": 7,
   "metadata": {},
   "outputs": [
    {
     "data": {
      "text/plain": [
       "tensor([0.0453, 0.6468, 0.1392, 0.1189, 0.0499])"
      ]
     },
     "execution_count": 7,
     "metadata": {},
     "output_type": "execute_result"
    }
   ],
   "source": [
    "torch.softmax(attn_score,dim=0)"
   ]
  },
  {
   "cell_type": "markdown",
   "metadata": {},
   "source": [
    "# calculate the context vector"
   ]
  },
  {
   "cell_type": "code",
   "execution_count": 8,
   "metadata": {},
   "outputs": [
    {
     "name": "stdout",
     "output_type": "stream",
     "text": [
      "tensor([-2.0000, -0.1502, -0.8964])\n"
     ]
    }
   ],
   "source": [
    "#with respect to the third(2) token\n",
    "context_value=torch.zeros(query.size())\n",
    "for i,val in enumerate(inputs):\n",
    "    context_value+=attn_weight[i]*val\n",
    "\n",
    "print(context_value)"
   ]
  },
  {
   "cell_type": "markdown",
   "metadata": {},
   "source": [
    "# extracting context vector from all inputs"
   ]
  },
  {
   "cell_type": "code",
   "execution_count": 9,
   "metadata": {},
   "outputs": [],
   "source": [
    "inputs = torch.tensor(\n",
    "[[0.43, 0.15, 0.89],\n",
    "[0.55, 0.87, 0.66], \n",
    "[0.57, 0.85, 0.64],\n",
    "[0.22, 0.58, 0.33], \n",
    "[0.77, 0.25, 0.10],\n",
    "[0.05, 0.80, 0.55]]\n",
    ")\n"
   ]
  },
  {
   "cell_type": "code",
   "execution_count": 10,
   "metadata": {},
   "outputs": [],
   "source": [
    "#attention score is\n",
    "attention_score=torch.zeros(6,6)\n",
    "\n",
    "for i,i_val in enumerate(inputs):\n",
    "    for j,j_val in enumerate(inputs):\n",
    "        attention_score[i,j]=torch.dot(i_val,j_val)"
   ]
  },
  {
   "cell_type": "code",
   "execution_count": 11,
   "metadata": {},
   "outputs": [],
   "source": [
    "#we can also transpose the values here\n",
    "att_score=inputs@inputs.T"
   ]
  },
  {
   "cell_type": "code",
   "execution_count": 12,
   "metadata": {},
   "outputs": [
    {
     "data": {
      "text/plain": [
       "tensor([[0.9995, 0.9544, 0.9422, 0.4753, 0.4576, 0.6310],\n",
       "        [0.9544, 1.4950, 1.4754, 0.8434, 0.7070, 1.0865],\n",
       "        [0.9422, 1.4754, 1.4570, 0.8296, 0.7154, 1.0605],\n",
       "        [0.4753, 0.8434, 0.8296, 0.4937, 0.3474, 0.6565],\n",
       "        [0.4576, 0.7070, 0.7154, 0.3474, 0.6654, 0.2935],\n",
       "        [0.6310, 1.0865, 1.0605, 0.6565, 0.2935, 0.9450]])"
      ]
     },
     "execution_count": 12,
     "metadata": {},
     "output_type": "execute_result"
    }
   ],
   "source": [
    "att_score"
   ]
  },
  {
   "cell_type": "code",
   "execution_count": 13,
   "metadata": {},
   "outputs": [
    {
     "name": "stdout",
     "output_type": "stream",
     "text": [
      "tensor([[0.9995, 0.9544, 0.9422, 0.4753, 0.4576, 0.6310],\n",
      "        [0.9544, 1.4950, 1.4754, 0.8434, 0.7070, 1.0865],\n",
      "        [0.9422, 1.4754, 1.4570, 0.8296, 0.7154, 1.0605],\n",
      "        [0.4753, 0.8434, 0.8296, 0.4937, 0.3474, 0.6565],\n",
      "        [0.4576, 0.7070, 0.7154, 0.3474, 0.6654, 0.2935],\n",
      "        [0.6310, 1.0865, 1.0605, 0.6565, 0.2935, 0.9450]])\n"
     ]
    }
   ],
   "source": [
    "print(attention_score)"
   ]
  },
  {
   "cell_type": "code",
   "execution_count": 14,
   "metadata": {},
   "outputs": [],
   "source": [
    "#using torch softmax\n",
    "attnetion_weight=torch.softmax(att_score,dim=1)"
   ]
  },
  {
   "cell_type": "code",
   "execution_count": 15,
   "metadata": {},
   "outputs": [
    {
     "data": {
      "text/plain": [
       "tensor([[0.2098, 0.2006, 0.1981, 0.1242, 0.1220, 0.1452],\n",
       "        [0.1385, 0.2379, 0.2333, 0.1240, 0.1082, 0.1581],\n",
       "        [0.1390, 0.2369, 0.2326, 0.1242, 0.1108, 0.1565],\n",
       "        [0.1435, 0.2074, 0.2046, 0.1462, 0.1263, 0.1720],\n",
       "        [0.1526, 0.1958, 0.1975, 0.1367, 0.1879, 0.1295],\n",
       "        [0.1385, 0.2184, 0.2128, 0.1420, 0.0988, 0.1896]])"
      ]
     },
     "execution_count": 15,
     "metadata": {},
     "output_type": "execute_result"
    }
   ],
   "source": [
    "attnetion_weight"
   ]
  },
  {
   "cell_type": "code",
   "execution_count": 16,
   "metadata": {},
   "outputs": [
    {
     "data": {
      "text/plain": [
       "tensor([1.0000, 1.0000, 1.0000, 1.0000, 1.0000, 1.0000])"
      ]
     },
     "execution_count": 16,
     "metadata": {},
     "output_type": "execute_result"
    }
   ],
   "source": [
    "attnetion_weight.sum(dim=1)"
   ]
  },
  {
   "cell_type": "code",
   "execution_count": 17,
   "metadata": {},
   "outputs": [],
   "source": [
    "context_vector=attnetion_weight@inputs"
   ]
  },
  {
   "cell_type": "code",
   "execution_count": 18,
   "metadata": {},
   "outputs": [
    {
     "data": {
      "text/plain": [
       "tensor([[0.4421, 0.5931, 0.5790],\n",
       "        [0.4419, 0.6515, 0.5683],\n",
       "        [0.4431, 0.6496, 0.5671],\n",
       "        [0.4304, 0.6298, 0.5510],\n",
       "        [0.4671, 0.5910, 0.5266],\n",
       "        [0.4177, 0.6503, 0.5645]])"
      ]
     },
     "execution_count": 18,
     "metadata": {},
     "output_type": "execute_result"
    }
   ],
   "source": [
    "context_vector"
   ]
  },
  {
   "cell_type": "markdown",
   "metadata": {},
   "source": [
    "# implementing self attention with trainable weights\n",
    "* self attention mechanism is also called scaled dot product"
   ]
  },
  {
   "cell_type": "code",
   "execution_count": 19,
   "metadata": {},
   "outputs": [],
   "source": [
    "inputs = torch.tensor(\n",
    "[[0.43, 0.15, 0.89],\n",
    "[0.55, 0.87, 0.66], \n",
    "[0.57, 0.85, 0.64],\n",
    "[0.22, 0.58, 0.33], \n",
    "[0.77, 0.25, 0.10],\n",
    "[0.05, 0.80, 0.55]]\n",
    ")\n"
   ]
  },
  {
   "cell_type": "code",
   "execution_count": 20,
   "metadata": {},
   "outputs": [],
   "source": [
    "x_2=inputs[1]\n",
    "d_in=inputs.shape[1]\n",
    "d_out=2"
   ]
  },
  {
   "cell_type": "code",
   "execution_count": 21,
   "metadata": {},
   "outputs": [
    {
     "name": "stdout",
     "output_type": "stream",
     "text": [
      "3\n",
      "2\n"
     ]
    }
   ],
   "source": [
    "print(d_in)\n",
    "print(d_out)"
   ]
  },
  {
   "cell_type": "code",
   "execution_count": 22,
   "metadata": {},
   "outputs": [
    {
     "name": "stdout",
     "output_type": "stream",
     "text": [
      "Parameter containing:\n",
      "tensor([[-0.1115,  0.1204],\n",
      "        [-0.3696, -0.2404],\n",
      "        [-1.1969,  0.2093]])\n",
      "Parameter containing:\n",
      "tensor([[-0.9724, -0.7550],\n",
      "        [ 0.3239, -0.1085],\n",
      "        [ 0.2103, -0.3908]])\n",
      "Parameter containing:\n",
      "tensor([[ 0.2350,  0.6653],\n",
      "        [ 0.3528,  0.9728],\n",
      "        [-0.0386, -0.8861]])\n"
     ]
    }
   ],
   "source": [
    "torch.manual_seed(123)\n",
    "\n",
    "#lets define the query,key and value\n",
    "w_query=torch.nn.parameter.Parameter(torch.randn(d_in,d_out),requires_grad=False)\n",
    "w_key=torch.nn.parameter.Parameter(torch.randn(d_in,d_out),requires_grad=False)\n",
    "w_value=torch.nn.parameter.Parameter(torch.randn(d_in,d_out),requires_grad=False)\n",
    "\n",
    "print(w_query)\n",
    "print(w_key)\n",
    "print(w_value)"
   ]
  },
  {
   "cell_type": "code",
   "execution_count": 23,
   "metadata": {},
   "outputs": [],
   "source": [
    "query_2=x_2@w_query\n",
    "key_2=x_2@w_key\n",
    "value_2=x_2@w_value"
   ]
  },
  {
   "cell_type": "code",
   "execution_count": 24,
   "metadata": {},
   "outputs": [
    {
     "data": {
      "text/plain": [
       "tensor([-1.1729, -0.0048])"
      ]
     },
     "execution_count": 24,
     "metadata": {},
     "output_type": "execute_result"
    }
   ],
   "source": [
    "query_2"
   ]
  },
  {
   "cell_type": "code",
   "execution_count": 25,
   "metadata": {},
   "outputs": [],
   "source": [
    "#general key and value \n",
    "key=inputs@w_key\n",
    "value=inputs@w_value"
   ]
  },
  {
   "cell_type": "code",
   "execution_count": 26,
   "metadata": {},
   "outputs": [
    {
     "name": "stdout",
     "output_type": "stream",
     "text": [
      "tensor([[-0.1823, -0.6888],\n",
      "        [-0.1142, -0.7676],\n",
      "        [-0.1443, -0.7728],\n",
      "        [ 0.0434, -0.3580],\n",
      "        [-0.6467, -0.6476],\n",
      "        [ 0.3262, -0.3395]])\n",
      "\n",
      "tensor([[ 0.1196, -0.3566],\n",
      "        [ 0.4107,  0.6274],\n",
      "        [ 0.4091,  0.6390],\n",
      "        [ 0.2436,  0.4182],\n",
      "        [ 0.2653,  0.6668],\n",
      "        [ 0.2728,  0.3242]])\n"
     ]
    }
   ],
   "source": [
    "print(f\"{key}\\n\")\n",
    "print(value)"
   ]
  },
  {
   "cell_type": "code",
   "execution_count": 27,
   "metadata": {},
   "outputs": [
    {
     "name": "stdout",
     "output_type": "stream",
     "text": [
      "torch.Size([6, 2])\n",
      "torch.Size([6, 2])\n"
     ]
    }
   ],
   "source": [
    "print(key.shape)\n",
    "print(value.shape)"
   ]
  },
  {
   "cell_type": "code",
   "execution_count": 28,
   "metadata": {},
   "outputs": [
    {
     "name": "stdout",
     "output_type": "stream",
     "text": [
      "the attention scoer 0.13763877749443054\n"
     ]
    }
   ],
   "source": [
    "#attention score\n",
    "key_2=key[1]\n",
    "attn_score=query_2.dot(key_2)\n",
    "print(f\"the attention scoer {attn_score}\")"
   ]
  },
  {
   "cell_type": "code",
   "execution_count": 29,
   "metadata": {},
   "outputs": [],
   "source": [
    "#general attention score of the token\n",
    "attn_score=query_2@key.T"
   ]
  },
  {
   "cell_type": "code",
   "execution_count": 30,
   "metadata": {},
   "outputs": [
    {
     "data": {
      "text/plain": [
       "tensor([ 0.2172,  0.1376,  0.1730, -0.0491,  0.7616, -0.3809])"
      ]
     },
     "execution_count": 30,
     "metadata": {},
     "output_type": "execute_result"
    }
   ],
   "source": [
    "attn_score"
   ]
  },
  {
   "cell_type": "code",
   "execution_count": 31,
   "metadata": {},
   "outputs": [],
   "source": [
    "d_k=key.shape[1]\n",
    "attn_weight_2=torch.softmax(attn_score/d_k**0.5,dim=-1)"
   ]
  },
  {
   "cell_type": "code",
   "execution_count": 32,
   "metadata": {},
   "outputs": [
    {
     "data": {
      "text/plain": [
       "tensor([0.1704, 0.1611, 0.1652, 0.1412, 0.2505, 0.1117])"
      ]
     },
     "execution_count": 32,
     "metadata": {},
     "output_type": "execute_result"
    }
   ],
   "source": [
    "attn_weight_2"
   ]
  },
  {
   "cell_type": "code",
   "execution_count": 33,
   "metadata": {},
   "outputs": [],
   "source": [
    "context_value_2=attn_weight_2@value"
   ]
  },
  {
   "cell_type": "code",
   "execution_count": 34,
   "metadata": {},
   "outputs": [
    {
     "name": "stdout",
     "output_type": "stream",
     "text": [
      "tensor([0.2854, 0.4081])\n"
     ]
    }
   ],
   "source": [
    "print(context_value_2)"
   ]
  },
  {
   "cell_type": "markdown",
   "metadata": {},
   "source": [
    "# lets formalize the process"
   ]
  },
  {
   "cell_type": "code",
   "execution_count": 35,
   "metadata": {},
   "outputs": [],
   "source": [
    "class SelfAttentionScoreV1(nn.Module):\n",
    "    def __init__(self,d_in,d_out):\n",
    "        super().__init__()\n",
    "        self.d_out=d_out\n",
    "        self.w_query=nn.Parameter(torch.rand(d_in,d_out))\n",
    "        self.w_key=nn.Parameter(torch.rand(d_in,d_out))\n",
    "        self.w_value=nn.Parameter(torch.rand(d_in,d_out))\n",
    "    \n",
    "    def forward(self,x):\n",
    "        query=x@self.w_query\n",
    "        keys=x@self.w_key\n",
    "        values=x@self.w_value\n",
    "\n",
    "        #self attention\n",
    "        attention_score=query@keys.T   #attenion weight \n",
    "        attention_weight=torch.softmax(attention_score/(self.d_out**0.5),dim=-1)\n",
    "        context_vector=attention_weight@values\n",
    "\n",
    "        return context_vector"
   ]
  },
  {
   "cell_type": "code",
   "execution_count": 36,
   "metadata": {},
   "outputs": [
    {
     "name": "stdout",
     "output_type": "stream",
     "text": [
      "tensor([[1.1672, 1.1043],\n",
      "        [1.1878, 1.1235],\n",
      "        [1.1870, 1.1228],\n",
      "        [1.1620, 1.0994],\n",
      "        [1.1568, 1.0944],\n",
      "        [1.1716, 1.1084]], grad_fn=<MmBackward0>)\n"
     ]
    }
   ],
   "source": [
    "sl_attn=SelfAttentionScoreV1(d_in=3,d_out=2)\n",
    "print(sl_attn(inputs))"
   ]
  },
  {
   "cell_type": "markdown",
   "metadata": {},
   "source": [
    "# using linear layer rather than paramter"
   ]
  },
  {
   "cell_type": "code",
   "execution_count": 37,
   "metadata": {},
   "outputs": [],
   "source": [
    "torch.manual_seed(123)\n",
    "class SelfAttentionScoreV2(nn.Module):\n",
    "    def __init__(self,d_in,d_out,bias=False):\n",
    "        super().__init__()\n",
    "        self.d_out=d_out\n",
    "        self.w_query=nn.Linear(d_in,d_out,bias=bias)\n",
    "        self.w_key=nn.Linear(d_in,d_out,bias=bias)\n",
    "        self.w_value=nn.Linear(d_in,d_out,bias=bias)\n",
    "    \n",
    "    def forward(self,x):\n",
    "        query=self.w_query(x)\n",
    "        keys=self.w_key(x)\n",
    "        values=self.w_value(x)\n",
    "\n",
    "        #self attention\n",
    "        attention_score=query@keys.T   #attenion weight \n",
    "        attention_weight=torch.softmax(attention_score/(self.d_out**0.5),dim=-1)\n",
    "        context_vector=attention_weight@values\n",
    "\n",
    "        return context_vector"
   ]
  },
  {
   "cell_type": "code",
   "execution_count": 38,
   "metadata": {},
   "outputs": [
    {
     "name": "stdout",
     "output_type": "stream",
     "text": [
      "tensor([[-0.5337, -0.1051],\n",
      "        [-0.5323, -0.1080],\n",
      "        [-0.5323, -0.1079],\n",
      "        [-0.5297, -0.1076],\n",
      "        [-0.5311, -0.1066],\n",
      "        [-0.5299, -0.1081]], grad_fn=<MmBackward0>)\n"
     ]
    }
   ],
   "source": [
    "sl_attn=SelfAttentionScoreV2(d_in=3,d_out=2)\n",
    "print(sl_attn(inputs))"
   ]
  },
  {
   "cell_type": "markdown",
   "metadata": {},
   "source": [
    "# tranfer weight from linear into paramter format between classes"
   ]
  },
  {
   "cell_type": "code",
   "execution_count": 39,
   "metadata": {},
   "outputs": [
    {
     "name": "stdout",
     "output_type": "stream",
     "text": [
      "tensor([[-0.5337, -0.1051],\n",
      "        [-0.5323, -0.1080],\n",
      "        [-0.5323, -0.1079],\n",
      "        [-0.5297, -0.1076],\n",
      "        [-0.5311, -0.1066],\n",
      "        [-0.5299, -0.1081]], grad_fn=<MmBackward0>)\n"
     ]
    }
   ],
   "source": [
    "#linear weight\n",
    "query_weight=sl_attn.w_query.weight.data\n",
    "key_weight=sl_attn.w_key.weight.data\n",
    "value_weight=sl_attn.w_value.weight.data\n",
    "\n",
    "#paramter weight\n",
    "new_vl_class=SelfAttentionScoreV2(d_in,d_out)\n",
    "\n",
    "new_vl_class.w_query.weight.data=query_weight\n",
    "new_vl_class.w_key.weight.data=key_weight\n",
    "new_vl_class.w_value.weight.data=value_weight\n",
    "\n",
    "#feed forward the value\n",
    "outputs=new_vl_class(inputs)\n",
    "print(outputs)\n"
   ]
  },
  {
   "cell_type": "markdown",
   "metadata": {},
   "source": [
    "# applying causal attention"
   ]
  },
  {
   "cell_type": "code",
   "execution_count": 40,
   "metadata": {},
   "outputs": [],
   "source": [
    "#lets make the attention score and weight\n",
    "attn_class=SelfAttentionScoreV2(d_in,d_out)\n",
    "\n",
    "#pass values into each layer oursefs\n",
    "queries=attn_class.w_query(inputs)\n",
    "keys=attn_class.w_key(inputs)\n",
    "values=attn_class.w_value(inputs)\n",
    "\n",
    "attention_score=queries@keys.T\n",
    "attn_weight=torch.softmax(attention_score/d_out**0.5,dim=-1)"
   ]
  },
  {
   "cell_type": "code",
   "execution_count": 41,
   "metadata": {},
   "outputs": [
    {
     "name": "stdout",
     "output_type": "stream",
     "text": [
      "tensor([[-0.0320, -0.2465, -0.2400, -0.1684, -0.0549, -0.2388],\n",
      "        [-0.0337, -0.2816, -0.2742, -0.1929, -0.0627, -0.2733],\n",
      "        [-0.0330, -0.2810, -0.2736, -0.1926, -0.0625, -0.2728],\n",
      "        [-0.0181, -0.1395, -0.1358, -0.0953, -0.0311, -0.1351],\n",
      "        [-0.0108, -0.1907, -0.1857, -0.1326, -0.0421, -0.1872],\n",
      "        [-0.0263, -0.1566, -0.1524, -0.1060, -0.0351, -0.1506]],\n",
      "       grad_fn=<MmBackward0>)\n"
     ]
    }
   ],
   "source": [
    "print(attention_score)"
   ]
  },
  {
   "cell_type": "code",
   "execution_count": 42,
   "metadata": {},
   "outputs": [
    {
     "name": "stdout",
     "output_type": "stream",
     "text": [
      "tensor([[0.1825, 0.1568, 0.1576, 0.1657, 0.1796, 0.1577],\n",
      "        [0.1852, 0.1554, 0.1562, 0.1655, 0.1814, 0.1563],\n",
      "        [0.1852, 0.1554, 0.1562, 0.1654, 0.1814, 0.1563],\n",
      "        [0.1756, 0.1611, 0.1615, 0.1662, 0.1740, 0.1616],\n",
      "        [0.1804, 0.1589, 0.1594, 0.1655, 0.1765, 0.1593],\n",
      "        [0.1760, 0.1605, 0.1610, 0.1664, 0.1749, 0.1612]],\n",
      "       grad_fn=<SoftmaxBackward0>)\n"
     ]
    }
   ],
   "source": [
    "print(attn_weight)"
   ]
  },
  {
   "cell_type": "markdown",
   "metadata": {},
   "source": [
    "## lets prepare the mask"
   ]
  },
  {
   "cell_type": "code",
   "execution_count": 43,
   "metadata": {},
   "outputs": [],
   "source": [
    "context_length=attn_weight.shape[0]\n",
    "mask_sample=torch.tril(torch.ones(context_length,context_length))"
   ]
  },
  {
   "cell_type": "code",
   "execution_count": 44,
   "metadata": {},
   "outputs": [
    {
     "data": {
      "text/plain": [
       "tensor([[1., 0., 0., 0., 0., 0.],\n",
       "        [1., 1., 0., 0., 0., 0.],\n",
       "        [1., 1., 1., 0., 0., 0.],\n",
       "        [1., 1., 1., 1., 0., 0.],\n",
       "        [1., 1., 1., 1., 1., 0.],\n",
       "        [1., 1., 1., 1., 1., 1.]])"
      ]
     },
     "execution_count": 44,
     "metadata": {},
     "output_type": "execute_result"
    }
   ],
   "source": [
    "mask_sample"
   ]
  },
  {
   "cell_type": "code",
   "execution_count": 45,
   "metadata": {},
   "outputs": [],
   "source": [
    "masked_sample=attn_weight*mask_sample"
   ]
  },
  {
   "cell_type": "code",
   "execution_count": 46,
   "metadata": {},
   "outputs": [
    {
     "data": {
      "text/plain": [
       "tensor([[0.1825, 0.0000, 0.0000, 0.0000, 0.0000, 0.0000],\n",
       "        [0.1852, 0.1554, 0.0000, 0.0000, 0.0000, 0.0000],\n",
       "        [0.1852, 0.1554, 0.1562, 0.0000, 0.0000, 0.0000],\n",
       "        [0.1756, 0.1611, 0.1615, 0.1662, 0.0000, 0.0000],\n",
       "        [0.1804, 0.1589, 0.1594, 0.1655, 0.1765, 0.0000],\n",
       "        [0.1760, 0.1605, 0.1610, 0.1664, 0.1749, 0.1612]],\n",
       "       grad_fn=<MulBackward0>)"
      ]
     },
     "execution_count": 46,
     "metadata": {},
     "output_type": "execute_result"
    }
   ],
   "source": [
    "masked_sample"
   ]
  },
  {
   "cell_type": "code",
   "execution_count": 47,
   "metadata": {},
   "outputs": [
    {
     "name": "stdout",
     "output_type": "stream",
     "text": [
      "tensor([[1.0000, 0.0000, 0.0000, 0.0000, 0.0000, 0.0000],\n",
      "        [0.5437, 0.4563, 0.0000, 0.0000, 0.0000, 0.0000],\n",
      "        [0.3728, 0.3128, 0.3144, 0.0000, 0.0000, 0.0000],\n",
      "        [0.2642, 0.2425, 0.2431, 0.2502, 0.0000, 0.0000],\n",
      "        [0.2146, 0.1890, 0.1896, 0.1969, 0.2099, 0.0000],\n",
      "        [0.1760, 0.1605, 0.1610, 0.1664, 0.1749, 0.1612]],\n",
      "       grad_fn=<DivBackward0>)\n"
     ]
    }
   ],
   "source": [
    "#lets normalize the inputs again\n",
    "normalized_version=masked_sample/masked_sample.sum(dim=1,keepdim=True)\n",
    "print(normalized_version)"
   ]
  },
  {
   "cell_type": "code",
   "execution_count": 48,
   "metadata": {},
   "outputs": [
    {
     "data": {
      "text/plain": [
       "tensor([[0., 1., 1., 1., 1., 1.],\n",
       "        [0., 0., 1., 1., 1., 1.],\n",
       "        [0., 0., 0., 1., 1., 1.],\n",
       "        [0., 0., 0., 0., 1., 1.],\n",
       "        [0., 0., 0., 0., 0., 1.],\n",
       "        [0., 0., 0., 0., 0., 0.]])"
      ]
     },
     "execution_count": 48,
     "metadata": {},
     "output_type": "execute_result"
    }
   ],
   "source": [
    "mask=torch.triu(torch.ones(6,6),diagonal=1)\n",
    "mask"
   ]
  },
  {
   "cell_type": "code",
   "execution_count": 49,
   "metadata": {},
   "outputs": [
    {
     "name": "stdout",
     "output_type": "stream",
     "text": [
      "tensor([[-0.0320, -0.2465, -0.2400, -0.1684, -0.0549, -0.2388],\n",
      "        [-0.0337, -0.2816, -0.2742, -0.1929, -0.0627, -0.2733],\n",
      "        [-0.0330, -0.2810, -0.2736, -0.1926, -0.0625, -0.2728],\n",
      "        [-0.0181, -0.1395, -0.1358, -0.0953, -0.0311, -0.1351],\n",
      "        [-0.0108, -0.1907, -0.1857, -0.1326, -0.0421, -0.1872],\n",
      "        [-0.0263, -0.1566, -0.1524, -0.1060, -0.0351, -0.1506]],\n",
      "       grad_fn=<MmBackward0>)\n"
     ]
    }
   ],
   "source": [
    "print(attention_score)"
   ]
  },
  {
   "cell_type": "markdown",
   "metadata": {},
   "source": [
    "## a simpler implementation of mask"
   ]
  },
  {
   "cell_type": "code",
   "execution_count": 50,
   "metadata": {},
   "outputs": [
    {
     "data": {
      "text/plain": [
       "tensor([[-0.0320,    -inf,    -inf,    -inf,    -inf,    -inf],\n",
       "        [-0.0337, -0.2816,    -inf,    -inf,    -inf,    -inf],\n",
       "        [-0.0330, -0.2810, -0.2736,    -inf,    -inf,    -inf],\n",
       "        [-0.0181, -0.1395, -0.1358, -0.0953,    -inf,    -inf],\n",
       "        [-0.0108, -0.1907, -0.1857, -0.1326, -0.0421,    -inf],\n",
       "        [-0.0263, -0.1566, -0.1524, -0.1060, -0.0351, -0.1506]],\n",
       "       grad_fn=<MaskedFillBackward0>)"
      ]
     },
     "execution_count": 50,
     "metadata": {},
     "output_type": "execute_result"
    }
   ],
   "source": [
    "masked_score=attention_score.masked_fill(mask.bool(),-torch.inf)\n",
    "masked_score"
   ]
  },
  {
   "cell_type": "code",
   "execution_count": 51,
   "metadata": {},
   "outputs": [
    {
     "name": "stdout",
     "output_type": "stream",
     "text": [
      "tensor([[1.0000, 0.0000, 0.0000, 0.0000, 0.0000, 0.0000],\n",
      "        [0.5437, 0.4563, 0.0000, 0.0000, 0.0000, 0.0000],\n",
      "        [0.3728, 0.3128, 0.3144, 0.0000, 0.0000, 0.0000],\n",
      "        [0.2642, 0.2425, 0.2431, 0.2502, 0.0000, 0.0000],\n",
      "        [0.2146, 0.1890, 0.1896, 0.1969, 0.2099, 0.0000],\n",
      "        [0.1760, 0.1605, 0.1610, 0.1664, 0.1749, 0.1612]],\n",
      "       grad_fn=<SoftmaxBackward0>)\n"
     ]
    }
   ],
   "source": [
    "attn_weight=torch.softmax(masked_score/keys.shape[-1]**0.5,dim=1)\n",
    "print(attn_weight)"
   ]
  },
  {
   "cell_type": "markdown",
   "metadata": {},
   "source": [
    "# adding dropout"
   ]
  },
  {
   "cell_type": "code",
   "execution_count": 52,
   "metadata": {},
   "outputs": [
    {
     "name": "stdout",
     "output_type": "stream",
     "text": [
      "tensor([[2., 0., 0., 0., 2., 0.],\n",
      "        [0., 2., 2., 2., 2., 0.],\n",
      "        [2., 2., 0., 2., 2., 0.],\n",
      "        [2., 0., 0., 2., 0., 0.],\n",
      "        [2., 2., 0., 0., 0., 2.],\n",
      "        [2., 0., 2., 0., 0., 2.]])\n"
     ]
    }
   ],
   "source": [
    "ones=torch.ones(6,6)\n",
    "dropout=torch.nn.Dropout(0.5)\n",
    "print(dropout(ones))"
   ]
  },
  {
   "cell_type": "code",
   "execution_count": 53,
   "metadata": {},
   "outputs": [
    {
     "data": {
      "text/plain": [
       "tensor([[1., 1., 1., 1.],\n",
       "        [1., 1., 1., 1.],\n",
       "        [1., 1., 1., 1.],\n",
       "        [1., 1., 1., 1.]])"
      ]
     },
     "execution_count": 53,
     "metadata": {},
     "output_type": "execute_result"
    }
   ],
   "source": [
    "torch.ones(4,4)"
   ]
  },
  {
   "cell_type": "code",
   "execution_count": 54,
   "metadata": {},
   "outputs": [
    {
     "name": "stdout",
     "output_type": "stream",
     "text": [
      "tensor([[2.0000, 0.0000, 0.0000, 0.0000, 0.0000, 0.0000],\n",
      "        [0.0000, 0.0000, 0.0000, 0.0000, 0.0000, 0.0000],\n",
      "        [0.0000, 0.6256, 0.0000, 0.0000, 0.0000, 0.0000],\n",
      "        [0.5284, 0.0000, 0.4862, 0.0000, 0.0000, 0.0000],\n",
      "        [0.4292, 0.0000, 0.3793, 0.0000, 0.0000, 0.0000],\n",
      "        [0.3520, 0.3210, 0.3220, 0.3327, 0.3498, 0.3224]],\n",
      "       grad_fn=<MulBackward0>)\n"
     ]
    }
   ],
   "source": [
    "print(dropout(attn_weight))"
   ]
  },
  {
   "cell_type": "markdown",
   "metadata": {},
   "source": [
    "# compact form of casual attention class"
   ]
  },
  {
   "cell_type": "code",
   "execution_count": 55,
   "metadata": {},
   "outputs": [
    {
     "name": "stdout",
     "output_type": "stream",
     "text": [
      "tensor([[[0.4300, 0.1500, 0.8900],\n",
      "         [0.5500, 0.8700, 0.6600],\n",
      "         [0.5700, 0.8500, 0.6400],\n",
      "         [0.2200, 0.5800, 0.3300],\n",
      "         [0.7700, 0.2500, 0.1000],\n",
      "         [0.0500, 0.8000, 0.5500]],\n",
      "\n",
      "        [[0.4300, 0.1500, 0.8900],\n",
      "         [0.5500, 0.8700, 0.6600],\n",
      "         [0.5700, 0.8500, 0.6400],\n",
      "         [0.2200, 0.5800, 0.3300],\n",
      "         [0.7700, 0.2500, 0.1000],\n",
      "         [0.0500, 0.8000, 0.5500]]])\n",
      "shape is torch.Size([2, 6, 3])\n"
     ]
    }
   ],
   "source": [
    "#simluating batch size\n",
    "batch=torch.stack((inputs,inputs),dim=0)\n",
    "print(batch)\n",
    "print(f\"shape is {batch.shape}\")"
   ]
  },
  {
   "cell_type": "code",
   "execution_count": 56,
   "metadata": {},
   "outputs": [],
   "source": [
    "class CasualAttention(nn.Module):\n",
    "    def __init__(self,d_in,d_out,context_length,dropout_value,weight_bias=False) -> None:\n",
    "        super().__init__()\n",
    "        self.d_out=d_out\n",
    "        self.w_query=nn.Linear(d_in,d_out,bias=weight_bias)\n",
    "        self.w_key=nn.Linear(d_in,d_out,bias=weight_bias)\n",
    "        self.w_value=nn.Linear(d_in,d_out,bias=weight_bias)\n",
    "        #self.dropout=nn.Dropout(dropout_value)\n",
    "        self.dropout = nn.Dropout(dropout_value)\n",
    "        #print(f\"initialize dropout as:{dropout_value}\")\n",
    "\n",
    "        #buffer\n",
    "        self.register_buffer('mask',torch.triu(torch.ones(context_length,context_length),diagonal=1))\n",
    "    \n",
    "    def forward(self,x):\n",
    "         #some values\n",
    "        b,num_tokens,d_in=x.shape\n",
    "        \n",
    "        queries=self.w_query(x)\n",
    "        keys=self.w_key(x)\n",
    "        values=self.w_value(x)\n",
    "\n",
    "        attention_score=queries@keys.transpose(1,2) #this is for batches of input like 3D inputs\n",
    "     \n",
    "        #lets apply casual attetion\n",
    "        attention_score.masked_fill_(self.mask.bool()[:num_tokens,:num_tokens],-torch.inf)   #dyanmic even for smaller number of tokens\n",
    "       \n",
    "        attention_weight=torch.softmax(attention_score/self.d_out**0.5,dim=-1)  \n",
    "       \n",
    "        attention_weight=self.dropout(attention_weight)\n",
    "\n",
    "        #lets make the context vector\n",
    "        context_vector=attention_weight@values\n",
    "\n",
    "        return context_vector"
   ]
  },
  {
   "cell_type": "code",
   "execution_count": 57,
   "metadata": {},
   "outputs": [],
   "source": [
    "torch.manual_seed(123)\n",
    "# lets pass values into it\n",
    "context_length=batch.shape[1]\n",
    "attention=CasualAttention(d_in=3,d_out=2,context_length=context_length,dropout_value=0.0)\n",
    "context_vec=attention(batch)"
   ]
  },
  {
   "cell_type": "code",
   "execution_count": 61,
   "metadata": {},
   "outputs": [
    {
     "data": {
      "text/plain": [
       "torch.Size([2, 6, 2])"
      ]
     },
     "execution_count": 61,
     "metadata": {},
     "output_type": "execute_result"
    }
   ],
   "source": [
    "context_vec.shape"
   ]
  },
  {
   "cell_type": "code",
   "execution_count": 60,
   "metadata": {},
   "outputs": [
    {
     "name": "stdout",
     "output_type": "stream",
     "text": [
      "tensor([[[-0.4519,  0.2216],\n",
      "         [-0.5874,  0.0058],\n",
      "         [-0.6300, -0.0632],\n",
      "         [-0.5675, -0.0843],\n",
      "         [-0.5526, -0.0981],\n",
      "         [-0.5299, -0.1081]],\n",
      "\n",
      "        [[-0.4519,  0.2216],\n",
      "         [-0.5874,  0.0058],\n",
      "         [-0.6300, -0.0632],\n",
      "         [-0.5675, -0.0843],\n",
      "         [-0.5526, -0.0981],\n",
      "         [-0.5299, -0.1081]]], grad_fn=<UnsafeViewBackward0>)\n"
     ]
    }
   ],
   "source": [
    "print(context_vec)"
   ]
  },
  {
   "cell_type": "markdown",
   "metadata": {},
   "source": [
    "# multihead attention "
   ]
  },
  {
   "cell_type": "code",
   "execution_count": 63,
   "metadata": {},
   "outputs": [],
   "source": [
    "class MultiHeadAttention(nn.Module):\n",
    "    def __init__(self,d_in,d_out,context_length,n_heads,drop=0.5,bias=False) -> None:\n",
    "        super().__init__()\n",
    "        self.heads=nn.ModuleList(CasualAttention(d_in,d_out,context_length,drop,bias) for _ in range(n_heads))\n",
    "    def forward(self,x):\n",
    "        #this is the context vector concatinated along the column dim\n",
    "        return torch.cat([head(x) for head in self.heads],dim=-1)"
   ]
  },
  {
   "cell_type": "code",
   "execution_count": 74,
   "metadata": {},
   "outputs": [],
   "source": [
    "#lets test the output\n",
    "context_length=batch.shape[1]\n",
    "d_in,d_out=3,1\n",
    "mha=MultiHeadAttention(d_in,d_out,context_length,n_heads=2,drop=0)\n",
    "context_vec=mha(batch)"
   ]
  },
  {
   "cell_type": "code",
   "execution_count": 75,
   "metadata": {},
   "outputs": [
    {
     "data": {
      "text/plain": [
       "tensor([[[0.1970, 0.0763],\n",
       "         [0.3793, 0.2361],\n",
       "         [0.4401, 0.2830],\n",
       "         [0.4132, 0.2812],\n",
       "         [0.4079, 0.2272],\n",
       "         [0.4020, 0.2577]],\n",
       "\n",
       "        [[0.1970, 0.0763],\n",
       "         [0.3793, 0.2361],\n",
       "         [0.4401, 0.2830],\n",
       "         [0.4132, 0.2812],\n",
       "         [0.4079, 0.2272],\n",
       "         [0.4020, 0.2577]]], grad_fn=<CatBackward0>)"
      ]
     },
     "execution_count": 75,
     "metadata": {},
     "output_type": "execute_result"
    }
   ],
   "source": [
    "context_vec"
   ]
  },
  {
   "cell_type": "code",
   "execution_count": 76,
   "metadata": {},
   "outputs": [
    {
     "data": {
      "text/plain": [
       "torch.Size([2, 6, 2])"
      ]
     },
     "execution_count": 76,
     "metadata": {},
     "output_type": "execute_result"
    }
   ],
   "source": [
    "context_vec.shape"
   ]
  },
  {
   "cell_type": "code",
   "execution_count": 78,
   "metadata": {},
   "outputs": [],
   "source": [
    "temp=torch.randn(6,5,4,3)"
   ]
  },
  {
   "cell_type": "code",
   "execution_count": null,
   "metadata": {},
   "outputs": [],
   "source": [
    "a=torch.randn(4,3,5,6)\n",
    "b=torch.randn(4,3,6,5)\n",
    "c=a"
   ]
  },
  {
   "cell_type": "markdown",
   "metadata": {},
   "source": [
    "# parallel computation of attention"
   ]
  },
  {
   "cell_type": "code",
   "execution_count": null,
   "metadata": {},
   "outputs": [],
   "source": []
  }
 ],
 "metadata": {
  "kernelspec": {
   "display_name": "snakey",
   "language": "python",
   "name": "python3"
  },
  "language_info": {
   "codemirror_mode": {
    "name": "ipython",
    "version": 3
   },
   "file_extension": ".py",
   "mimetype": "text/x-python",
   "name": "python",
   "nbconvert_exporter": "python",
   "pygments_lexer": "ipython3",
   "version": "3.8.19"
  }
 },
 "nbformat": 4,
 "nbformat_minor": 2
}
